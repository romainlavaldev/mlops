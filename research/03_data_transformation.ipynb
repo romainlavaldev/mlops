{
 "cells": [
  {
   "cell_type": "code",
   "execution_count": 1,
   "metadata": {},
   "outputs": [
    {
     "data": {
      "text/plain": [
       "'/home/asini/Workspace/Enseignement/M2/MLOps/e2e-mlops'"
      ]
     },
     "execution_count": 1,
     "metadata": {},
     "output_type": "execute_result"
    }
   ],
   "source": [
    "import os\n",
    "os.chdir('../')\n",
    "%pwd"
   ]
  },
  {
   "cell_type": "code",
   "execution_count": 4,
   "metadata": {},
   "outputs": [],
   "source": [
    "from dataclasses import dataclass\n",
    "from pathlib import Path\n",
    "\n",
    "\n",
    "@dataclass(frozen=True)\n",
    "class DataTransformationConfig:\n",
    "    root_dir:Path\n",
    "    data_path :Path\n",
    "    "
   ]
  },
  {
   "cell_type": "code",
   "execution_count": 5,
   "metadata": {},
   "outputs": [],
   "source": [
    "from mlProject.constants import *\n",
    "from mlProject.utils.common import read_yaml, create_directories"
   ]
  },
  {
   "cell_type": "code",
   "execution_count": 6,
   "metadata": {},
   "outputs": [],
   "source": [
    "class ConfigurationManager :\n",
    "    def __init__(\n",
    "            self,\n",
    "            config_filepath = CONFIG_FILE_PATH,\n",
    "            params_filepath = PARAMS_FILE_PATH,\n",
    "            schema_filepath =  SCHEMA_FILE_PATH):\n",
    "        self.config= read_yaml(config_filepath)\n",
    "        self.params= read_yaml(params_filepath)\n",
    "        self.schema= read_yaml(schema_filepath)\n",
    "\n",
    "        create_directories([self.config.artifacts_roots])\n",
    "    \n",
    "    def get_data_transformation_config(self)-> DataTransformationConfig:\n",
    "        config =self.config.data_transformation\n",
    "        \n",
    "        create_directories([config.root_dir])\n",
    "\n",
    "        data_transformation_config = DataTransformationConfig(\n",
    "            root_dir=config.root_dir,\n",
    "            \n",
    "            data_path=config.unzip_data_dir,\n",
    "            \n",
    "        )\n",
    "        return data_transformation_config\n"
   ]
  },
  {
   "cell_type": "code",
   "execution_count": 11,
   "metadata": {},
   "outputs": [],
   "source": [
    "import os\n",
    "from mlProject import logger\n",
    "from sklearn.model_selection import train_test_split\n",
    "import pandas as pd"
   ]
  },
  {
   "cell_type": "code",
   "execution_count": 12,
   "metadata": {},
   "outputs": [],
   "source": [
    "class DataTransformation:\n",
    "    def __init__(self,config: DataTransformationConfig):\n",
    "        self.config = config\n",
    "    \n",
    "\n",
    "    def train_test_spliting(self):\n",
    "        data = pd.read_csv(self.config.data_path)\n",
    "        ##\n",
    "        train,test =train_test_split(data)\n",
    "\n",
    "        train.to_csv(os.path.join(self.config.root_dir,'train.csv'),index=False)\n",
    "        test.to_csv(os.path.join(self.config.root_dir,'test.csv'),index=False)\n",
    "        logger.info(\"Splited data into training and test sets\")\n",
    "        logger.info(train.shape)\n",
    "        logger.info(test.shape)\n",
    "\n",
    "        print(train.shape)\n",
    "        print(test.shape)\n",
    "        "
   ]
  },
  {
   "cell_type": "code",
   "execution_count": 13,
   "metadata": {},
   "outputs": [],
   "source": [
    "import os\n",
    "\n",
    "from mlProject import logger"
   ]
  },
  {
   "cell_type": "code",
   "execution_count": 14,
   "metadata": {},
   "outputs": [
    {
     "name": "stdout",
     "output_type": "stream",
     "text": [
      "[2023-10-24 17:29:08,225:INFO: common: yaml file: config/config.yaml loaded successfully]\n",
      "[2023-10-24 17:29:08,226:INFO: common: yaml file: params.yaml loaded successfully]\n",
      "[2023-10-24 17:29:08,228:INFO: common: yaml file: schema.yaml loaded successfully]\n",
      "[2023-10-24 17:29:08,229:INFO: common: created directory at: artifacts]\n",
      "[2023-10-24 17:29:08,229:INFO: common: created directory at: artifacts/data_validation]\n",
      "[2023-10-24 17:29:08,245:INFO: 3192522423: Splited data into training and test sets]\n",
      "[2023-10-24 17:29:08,246:INFO: 3192522423: (1199, 12)]\n",
      "[2023-10-24 17:29:08,246:INFO: 3192522423: (400, 12)]\n",
      "(1199, 12)\n",
      "(400, 12)\n"
     ]
    }
   ],
   "source": [
    "try:\n",
    "    config = ConfigurationManager()\n",
    "    data_transformation_config = config.get_data_transformation_config()\n",
    "    data_transformation=DataTransformation(config=data_transformation_config)\n",
    "    data_transformation.train_test_spliting()\n",
    "\n",
    "except Exception as e:\n",
    "    raise e"
   ]
  }
 ],
 "metadata": {
  "kernelspec": {
   "display_name": "mlops_env",
   "language": "python",
   "name": "python3"
  },
  "language_info": {
   "codemirror_mode": {
    "name": "ipython",
    "version": 3
   },
   "file_extension": ".py",
   "mimetype": "text/x-python",
   "name": "python",
   "nbconvert_exporter": "python",
   "pygments_lexer": "ipython3",
   "version": "3.9.18"
  }
 },
 "nbformat": 4,
 "nbformat_minor": 2
}
